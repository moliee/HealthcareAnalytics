{
  "nbformat": 4,
  "nbformat_minor": 0,
  "metadata": {
    "colab": {
      "provenance": [],
      "authorship_tag": "ABX9TyPZ088BAE+Ubs6hpDm6w3+P",
      "include_colab_link": true
    },
    "kernelspec": {
      "name": "python3",
      "display_name": "Python 3"
    },
    "language_info": {
      "name": "python"
    }
  },
  "cells": [
    {
      "cell_type": "markdown",
      "metadata": {
        "id": "view-in-github",
        "colab_type": "text"
      },
      "source": [
        "<a href=\"https://colab.research.google.com/github/moliee/HealthcareAnlytics/blob/main/ExploratoryAnalysis.ipynb\" target=\"_parent\"><img src=\"https://colab.research.google.com/assets/colab-badge.svg\" alt=\"Open In Colab\"/></a>"
      ]
    },
    {
      "cell_type": "code",
      "execution_count": 1,
      "metadata": {
        "id": "qnF0IMgZRFYI",
        "colab": {
          "base_uri": "https://localhost:8080/"
        },
        "outputId": "16ba327f-3366-4948-e1d8-59dafd7fe4e3"
      },
      "outputs": [
        {
          "output_type": "stream",
          "name": "stdout",
          "text": [
            "Mounted at /content/gdrive\n"
          ]
        }
      ],
      "source": [
        "from google.colab import drive\n",
        "drive.mount(\"/content/gdrive\")"
      ]
    },
    {
      "cell_type": "markdown",
      "source": [
        "**Import Python Libraries**"
      ],
      "metadata": {
        "id": "jBnMGvm3SBCO"
      }
    },
    {
      "cell_type": "code",
      "source": [
        "import pandas as pd\n",
        "import numpy as mp\n",
        "import scipy\n",
        "from scipy.stats import ks_2samp\n",
        "from statsmodels.distributions.empirical_distribution import ECDF"
      ],
      "metadata": {
        "id": "sLVT04MISSjz"
      },
      "execution_count": 2,
      "outputs": []
    },
    {
      "cell_type": "markdown",
      "source": [
        "**Check if Folder/File Exists**"
      ],
      "metadata": {
        "id": "PZXYNu3uSnDx"
      }
    },
    {
      "cell_type": "markdown",
      "source": [],
      "metadata": {
        "id": "Ef1sdGgCSrlE"
      }
    },
    {
      "cell_type": "code",
      "source": [
        "df1 = pd.read_csv(\"/content/gdrive/My Drive/ColabNotebooks/Datasets /insurance.csv\", sep = \",\")\n",
        "#data = data.drop('region', axis=1)\n",
        "#data = data.dropna(axis='columns')\n",
        "df1.head()"
      ],
      "metadata": {
        "id": "4w5iiGXDSvSz"
      },
      "execution_count": null,
      "outputs": []
    },
    {
      "cell_type": "markdown",
      "source": [
        "Import Seaborn library"
      ],
      "metadata": {
        "id": "kZRVhQVliEmk"
      }
    },
    {
      "cell_type": "code",
      "source": [
        "from matplotlib import pyplot as plt\n",
        "import seaborn as sns"
      ],
      "metadata": {
        "id": "V3vxHnB8iHgi"
      },
      "execution_count": 8,
      "outputs": []
    },
    {
      "cell_type": "markdown",
      "source": [
        "Histograms for Categorical Variables: Region, Sex, Smoker"
      ],
      "metadata": {
        "id": "jBIxpwfHd0o0"
      }
    },
    {
      "source": [
        "df1.groupby('region').size().plot(kind='bar',\n",
        "                                  color = sns.dark_palette(\"#a205ac\"))\n",
        "\n",
        "axes1 = plt.gca()\n",
        "axes1.set_title(\"Histogram for 'Region' Variable\")\n"
      ],
      "cell_type": "code",
      "metadata": {
        "id": "VWzSsu5CVsXx"
      },
      "execution_count": null,
      "outputs": []
    },
    {
      "source": [
        "df1.groupby('sex').size().plot(kind='bar',\n",
        "                                  color = sns.light_palette(\"blue\"))\n",
        "axes2 = plt.gca()\n",
        "axes2.set_title(\"Histogram for 'Sex' Variable\")"
      ],
      "cell_type": "code",
      "execution_count": null,
      "outputs": [],
      "metadata": {
        "id": "sONIhT6GVOZL"
      }
    },
    {
      "cell_type": "code",
      "source": [
        "df1.groupby('smoker').size().plot(kind='bar',\n",
        "                                  color = sns.dark_palette(\"seagreen\", 2))\n",
        "axes3 = plt.gca()\n",
        "axes3.set_title(\"Histogram for 'Smoker' Variable\")\n",
        "#axes3.spines['top'].set_visible(False)\n",
        "#axes3.spines['right'].set_visible(False)\n"
      ],
      "metadata": {
        "id": "ty9ciM-RU2uB"
      },
      "execution_count": null,
      "outputs": []
    },
    {
      "cell_type": "markdown",
      "source": [
        "Non-categorical variables = age, charges, bmi"
      ],
      "metadata": {
        "id": "u1H1KNYPizkw"
      }
    },
    {
      "cell_type": "code",
      "source": [
        "#Check for datatypes\n",
        "print(df1.describe())\n",
        "\n",
        "#df1['age'] = pd.to_numeric(df1['age'], errors='coerce')  # Convert to numeric (handle errors)\n",
        "#df1['bmi'] = pd.to_numeric(df1['bmi'], errors='coerce')  # Convert to numeric (handle errors)\n",
        "#df1['charges'] = pd.to_numeric(df1['charges'], errors='coerce')  # Convert to numeric (handle errors)\n",
        "\n",
        "#print(df1.dtypes)"
      ],
      "metadata": {
        "id": "vNWiD-paNCga"
      },
      "execution_count": null,
      "outputs": []
    },
    {
      "cell_type": "code",
      "source": [
        "#Subplots\n",
        "#matplotlib is imported already\n",
        "\n",
        "from matplotlib.patches import Rectangle  # For legend elements\n",
        "\n",
        "# Define colors for different elements\n",
        "box_color = 'navajowhite'\n",
        "median_color = 'blue'\n",
        "whisker_color = 'black'\n",
        "outlier_color = 'goldenrod'\n",
        "\n",
        "# Create 3 subplots\n",
        "fig, axes = plt.subplots(1, 3, figsize=(12, 4))\n",
        "\n",
        "# Loop through columns and create boxplots\n",
        "columns = ['age', 'bmi', 'charges']\n",
        "\n",
        "# Dictionary to store outlier counts per column\n",
        "outlier_counts = {}\n",
        "\n",
        "for i, col in enumerate(columns):\n",
        "    q1 = df1[col].quantile(0.25)\n",
        "    q3 = df1[col].quantile(0.75)\n",
        "    iqr = q3 - q1\n",
        "    median = df1[col].median()\n",
        "    upper = min(q3 + 1.5 * iqr, df1[col].max())\n",
        "    lower = max(q1 - 1.5 * iqr, df1[col].min())\n",
        "\n",
        "    # Create box elements\n",
        "    box = axes[i].boxplot(\n",
        "        [df1[col]],\n",
        "        notch=True,  # Notches added for better comparison\n",
        "        vert=True,  # Vertical boxes\n",
        "        patch_artist=False,  # Enable box element customization\n",
        "        medianprops={\"linewidth\": 2, \"color\": median_color},\n",
        "        boxprops={\"linewidth\": 1.5, \"color\": box_color},\n",
        "        whiskerprops={\"linewidth\": 1.5, \"color\": whisker_color},\n",
        "    )\n",
        "\n",
        "    # Identify outliers (optional)\n",
        "    outliers = df1.query(f\"{col} < {lower} or {col} > {upper}\")\n",
        "    outlier_counts[col] = len(outliers)  # Store outlier count (optional)\n",
        "\n",
        "    # Plot outliers if any\n",
        "    if len(outliers) > 0:\n",
        "        axes[i].scatter(\n",
        "            [i + 1] * len(outliers), outliers[col], marker='o', color=outlier_color\n",
        "        )\n",
        "\n",
        "    # Add labels and title\n",
        "    axes[i].set_xlabel(col)\n",
        "    axes[i].set_ylabel('Value')\n",
        "    axes[i].set_title(f\"{col} Distribution\")\n",
        "\n",
        "# Legend elements\n",
        "box_patch = Rectangle((0, 0), 1, 1, color=box_color, label='Box (IQR)')\n",
        "median_line = plt.Line2D((0, 1), (median_color, median_color), linewidth=2, label='Median')\n",
        "whisker_line = plt.Line2D((0, 1), (whisker_color, whisker_color), linewidth=1.5, label='Whiskers')\n",
        "outlier_point = plt.scatter([], [], marker='o', s=30, color=outlier_color, label=f'Outliers ({sum(outlier_counts.values())})')\n",
        "#outlier_count = plt.scatter(y= outliers[col], marker='o', color='red', label=f'Outliers ({outlier_counts[col]})'\n",
        "\n",
        "\n",
        "#Can use either #1 or #2 to add legends to boxchart. See comments.\n",
        "\n",
        "#1 Create legend for each subplot\n",
        "legend_handles = [box_patch, median_line, whisker_line, outlier_point]\n",
        "labels = [l.get_label() for l in legend_handles]\n",
        "for i,ax in enumerate(axes):\n",
        "  axes[i].legend(legend_handles, labels, loc='upper right')  # Add legend to each subplot\n",
        "\n",
        "\n",
        "#2 Add Legend to the entire figure\n",
        "legend_handles = [box_patch, median_line, whisker_line, outlier_point]\n",
        "labels = [l.get_label() for l in legend_handles]\n",
        "axes[i].legend(legend_handles, labels, loc='upper right')\n",
        "plt.legend(legend_handles, labels, loc='upper center', bbox_to_anchor=(1.2, 1))\n",
        "\n",
        "\n",
        "plt.tight_layout()  # Adjust spacing between subplots\n",
        "\n",
        "# Print outlier counts (optional)\n",
        "if outlier_counts:\n",
        "    for col, count in outlier_counts.items():\n",
        "        print(f\"Number of Outliers in {col}: {count}\")\n",
        "\n",
        "plt.show()\n"
      ],
      "metadata": {
        "id": "KeRmx-Gkq06a"
      },
      "execution_count": null,
      "outputs": []
    },
    {
      "cell_type": "code",
      "source": [
        "# Import the libraries\n",
        "import matplotlib.pyplot as plt\n",
        "import seaborn as sns\n",
        "\n",
        "stats= df1[['age','charges','bmi']].describe()\n",
        "print(stats)\n",
        "\n",
        "# matplotlib histogram\n",
        "plt.hist(df1[\"age\"], color = 'grey', edgecolor = 'black')\n",
        "\n",
        "# seaborn histogram\n",
        "sns.histplot(df1[\"age\"], kde=True, bins=10, color = 'grey',\n",
        "           stat =\"count\", kde_kws=dict(cut=3))\n",
        "\n",
        "#Add labels\n",
        "plt.title('Histogram of Age')\n",
        "plt.xlabel('age(years)')\n",
        "plt.ylabel('Count')\n"
      ],
      "metadata": {
        "id": "EzSrLT6q0TKH"
      },
      "execution_count": null,
      "outputs": []
    },
    {
      "cell_type": "code",
      "source": [
        "stats= df1[['age','charges','bmi']].describe()\n",
        "print(stats)\n",
        "\n",
        "# matplotlib histogram\n",
        "plt.hist(df1[\"charges\"], color = 'blue', edgecolor = 'black')\n",
        "\n",
        "\n",
        "# seaborn histogram\n",
        "sns.histplot(df1[\"charges\"], kde=True, bins=0, color = 'blue',\n",
        "             stat =\"count\", kde_kws=dict(cut=3))\n",
        "\n",
        "\n",
        "# Add labels\n",
        "plt.title('Histogram of Charges')\n",
        "plt.xlabel('Charge')\n",
        "plt.ylabel('Count')\n",
        "\n"
      ],
      "metadata": {
        "id": "tjNrQYn4EUiH"
      },
      "execution_count": null,
      "outputs": []
    },
    {
      "cell_type": "code",
      "source": [
        "stats= df1[['age','charges','bmi']].describe()\n",
        "print(stats)\n",
        "\n",
        "# matplotlib histogram\n",
        "plt.hist(df1[\"bmi\"], color = 'plum', edgecolor = 'black')\n",
        "\n",
        "# seaborn histogram\n",
        "sns.histplot(df1[\"bmi\"], kde=True, bins=10, color = 'plum',\n",
        "             stat =\"count\", kde_kws=dict(cut=3))\n",
        "\n",
        "# Add labels\n",
        "plt.title('Histogram of BMI')\n",
        "plt.xlabel('BMI')\n",
        "plt.ylabel('Count')"
      ],
      "metadata": {
        "id": "JeDJ_3ShEo3s"
      },
      "execution_count": null,
      "outputs": []
    },
    {
      "cell_type": "code",
      "source": [],
      "metadata": {
        "id": "9dsWUGzqGiGg"
      },
      "execution_count": null,
      "outputs": []
    }
  ]
}